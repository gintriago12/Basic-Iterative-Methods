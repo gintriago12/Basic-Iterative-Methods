{
 "cells": [
  {
   "cell_type": "code",
   "execution_count": 33,
   "metadata": {},
   "outputs": [],
   "source": [
    "import numpy as np # Librería de métodos numéricos\n",
    "import matplotlib.pyplot as plt\n",
    "import scipy.sparse as sp\n",
    "from scipy.sparse import random"
   ]
  },
  {
   "cell_type": "markdown",
   "metadata": {},
   "source": [
    "# Lower and upper triangular matrices for linear systems"
   ]
  },
  {
   "cell_type": "markdown",
   "metadata": {},
   "source": [
    "$$\n",
    "\\left[\n",
    "\\begin{matrix}\n",
    "\\ell_{11}& 0& \\cdots & 0\\\\\n",
    "\\ell_{21}&\\ell_{22} & &0\\\\\n",
    "\\vdots & \\vdots & \\ddots & \\vdots \\\\\n",
    "\\ell_{n1}&\\ell_{n2}&\\cdots&\\ell_{nn}\n",
    "\\end{matrix}\n",
    "\\right]\n",
    "\\left[\n",
    "\\begin{matrix}\n",
    "x_1 \\\\\n",
    "x_2 \\\\\n",
    "\\vdots\\\\\n",
    "x_n\n",
    "\\end{matrix}\n",
    "\\right] \n",
    "=\n",
    "\\left[\n",
    "\\begin{matrix}\n",
    "b_1 \\\\\n",
    "b_2 \\\\\n",
    "\\vdots\\\\\n",
    "b_n\n",
    "\\end{matrix}\n",
    "\\right] \n",
    "\\quad\\quad\\quad\n",
    "\\left[\n",
    "\\begin{matrix}\n",
    "\\ell_{11}&\\ell_{12}&\\cdots&\\ell_{1n}\\\\\n",
    "0&\\ell_{22}&\\cdots& \\ell_{2n}\\\\\n",
    "\\vdots&\\vdots &\\ddots &\\vdots\\\\\n",
    "0&0&\\cdots&\\ell_{nn}\n",
    "\\end{matrix}\n",
    "\\right]\n",
    "\\left[\n",
    "\\begin{matrix}\n",
    "x_1 \\\\\n",
    "x_2 \\\\\n",
    "\\vdots\\\\\n",
    "x_n\n",
    "\\end{matrix}\n",
    "\\right] \n",
    "=\n",
    "\\left[\n",
    "\\begin{matrix}\n",
    "b_1 \\\\\n",
    "b_2 \\\\\n",
    "\\vdots\\\\\n",
    "b_n\n",
    "\\end{matrix}\n",
    "\\right]\n",
    "$$"
   ]
  },
  {
   "cell_type": "markdown",
   "metadata": {},
   "source": [
    "## Progressive substitution"
   ]
  },
  {
   "cell_type": "code",
   "execution_count": 13,
   "metadata": {},
   "outputs": [],
   "source": [
    "def s_prog(L,b):\n",
    "    # s_prog solves the system Lx = b\n",
    "    # Inputs\n",
    "    #       L: n-by-n Lower triangular matrix\n",
    "    #       b: n-by-1 coefficient vector\n",
    "    # Outputs\n",
    "    #       x: n-by-1 solution vector\n",
    "    n = np.shape(L)[0]\n",
    "    x = np.zeros([n,1])\n",
    "    for i in np.arange(0,n):\n",
    "        s=0\n",
    "        for k in np.arange(0,i):\n",
    "            s = s + x[k,0]*L[i,k]\n",
    "        x[i,0]=(b[i,0]-s)/L[i,i]\n",
    "    return x"
   ]
  },
  {
   "cell_type": "markdown",
   "metadata": {},
   "source": [
    "### Test"
   ]
  },
  {
   "cell_type": "code",
   "execution_count": 14,
   "metadata": {},
   "outputs": [
    {
     "name": "stdout",
     "output_type": "stream",
     "text": [
      "[[ 1.22661713]\n",
      " [ 1.03499576]\n",
      " [-2.08899607]\n",
      " [ 2.49853993]\n",
      " [-1.26240074]]\n"
     ]
    }
   ],
   "source": [
    "L=np.tril(np.random.rand(5,5))\n",
    "b=np.ones([5,1])\n",
    "x=s_prog(L,b)\n",
    "print(x)"
   ]
  },
  {
   "cell_type": "markdown",
   "metadata": {},
   "source": [
    "## Regressive substitution"
   ]
  },
  {
   "cell_type": "code",
   "execution_count": 15,
   "metadata": {},
   "outputs": [],
   "source": [
    "def s_regre(L,b):\n",
    "    # s_regre solves the system Ux = b\n",
    "    # Inputs\n",
    "    #       U: n-by-n Upper triangular matrix\n",
    "    #       b: n-by-1 coefficient vector\n",
    "    # Outputs\n",
    "    #       x: n-by-1 solution vector\n",
    "    n = np.shape(L)[0]\n",
    "    x = np.zeros([n,1])\n",
    "    for i in np.arange(0,n):\n",
    "        s=0\n",
    "        j = (n-1) - i\n",
    "        for k in np.arange(0,i):\n",
    "            l = j+1+k\n",
    "            s = s + x[l,0]*L[j,l]\n",
    "        x[j,0]=(b[j,0]-s)/L[j,j]\n",
    "    return x"
   ]
  },
  {
   "cell_type": "markdown",
   "metadata": {},
   "source": [
    "### Test"
   ]
  },
  {
   "cell_type": "code",
   "execution_count": 16,
   "metadata": {},
   "outputs": [
    {
     "name": "stdout",
     "output_type": "stream",
     "text": [
      "[[ 15.32192561]\n",
      " [  0.88136687]\n",
      " [ 12.38019334]\n",
      " [-15.90146759]\n",
      " [  6.05907031]]\n"
     ]
    }
   ],
   "source": [
    "U=np.triu(np.random.rand(5,5))\n",
    "b=np.ones([5,1])\n",
    "x=s_regre(U,b)\n",
    "print(x)"
   ]
  },
  {
   "cell_type": "markdown",
   "metadata": {},
   "source": [
    "## Jacobi"
   ]
  },
  {
   "cell_type": "markdown",
   "metadata": {},
   "source": [
    "$$Ax = b$$\n",
    "\n",
    "where the matrix A can be decomposed into a lower triangular matrix $L$, a diagonal matrix $D$, and an upper triangular matrix $U$ as follows:\n",
    "\n",
    "$$A = L+D+U$$\n",
    "\n",
    "The iterative solution vector becomes:\n",
    "\n",
    "$$x^{k+1}= -D^{-1}(L+U)x^{k}+ D^{-1}b$$"
   ]
  },
  {
   "cell_type": "code",
   "execution_count": 115,
   "metadata": {},
   "outputs": [],
   "source": [
    "def jacobi(A,b,x,tol):\n",
    "    # gseidel solves the system Ax = b\n",
    "    # Inputs\n",
    "    #       A: n-by-n matrix\n",
    "    #       U: n-by-n Upper triangular matrix\n",
    "    #       L: n-by-n Lower triangular matrix\n",
    "    #       D: n-by-n Diagonal matrix\n",
    "    #       x: initial solution vector\n",
    "    #       b: n-by-1 coefficient vector\n",
    "    #       tol: tolerance for stopping criteria\n",
    "    # Outputs\n",
    "    #       x: n-by-1 solution vector\n",
    "    #      RES: residual\n",
    "    maxiter=300\n",
    "    N=np.shape(A)[0]\n",
    "    b=np.reshape(b,[N,1]) \n",
    "    L=sp.tril(A,-1)\n",
    "    L=sp.csr_matrix(L)    \n",
    "    U=sp.triu(A,1)\n",
    "    U=sp.csr_matrix(U)\n",
    "    RES =np.zeros([maxiter,1]) \n",
    "    D = -1*(A - sp.tril(A) - sp.triu(A)) #D\n",
    "    D=sp.csr_matrix(D)\n",
    "    c=np.reshape(s_prog(D ,b),[N,1])\n",
    "    res=1 \n",
    "    x=np.reshape(x,[N,1])\n",
    "    k=0\n",
    "    while res>tol and k<maxiter:\n",
    "        k=k+1\n",
    "        lu = (L+U).dot(x) # U@x\n",
    "        x= -1 * (s_prog(D ,lu)) + c\n",
    "        res = np.linalg.norm(b.reshape(N,1)- (A.dot(x)).reshape(N,1))\n",
    "        RES[k-1,0]=res    \n",
    "        print(k,'...',res)\n",
    "    return x,RES,D,L,U"
   ]
  },
  {
   "cell_type": "markdown",
   "metadata": {},
   "source": [
    "### Testing"
   ]
  },
  {
   "cell_type": "code",
   "execution_count": 116,
   "metadata": {},
   "outputs": [
    {
     "name": "stdout",
     "output_type": "stream",
     "text": [
      "1 ... 0.4898979485566355\n",
      "2 ... 0.13856406460550993\n",
      "3 ... 0.03919183588453071\n",
      "4 ... 0.011085125168440619\n",
      "5 ... 0.0031353468707624307\n",
      "6 ... 0.0008868100134751264\n",
      "7 ... 0.0002508277496608675\n",
      "8 ... 7.094480107785629e-05\n",
      "9 ... 2.0066219972742496e-05\n",
      "10 ... 5.675584085997747e-06\n"
     ]
    },
    {
     "data": {
      "text/plain": [
       "[<matplotlib.lines.Line2D at 0x116f5c358>]"
      ]
     },
     "execution_count": 116,
     "metadata": {},
     "output_type": "execute_result"
    },
    {
     "data": {
      "image/png": "[encoded data removed]",
      "text/plain": [
       "<Figure size 432x288 with 1 Axes>"
      ]
     },
     "metadata": {
      "needs_background": "light"
     },
     "output_type": "display_data"
    }
   ],
   "source": [
    "A = np.array([[5,-1,0],[-1,5,-1],[0,-1,5]]) # Strictly diagonal dominant matrix\n",
    "b = np.ones((N,1))\n",
    "x,RES,D,L,U = jacobi(A,b,np.zeros([N,1]),1e-5)\n",
    "plt.semilogy(RES)"
   ]
  },
  {
   "cell_type": "markdown",
   "metadata": {},
   "source": [
    "## Explicit Jacobi"
   ]
  },
  {
   "cell_type": "markdown",
   "metadata": {},
   "source": [
    "$$ \n",
    "x_j^{(k+1)} = \\frac{1}{a_{jj}} \\Big( b_j - \\sum_{i=1}^{j-1} a_{ji}x_i^{(k)} - \\sum_{i=j+1}^n a_{ji}x_i^{(k)} \\Big) \n",
    "$$"
   ]
  },
  {
   "cell_type": "code",
   "execution_count": 121,
   "metadata": {},
   "outputs": [],
   "source": [
    "def explicit_jacobi(A,b,x,tol):\n",
    "    # explicit_gseidel solves the system Ax = b\n",
    "    # Inputs\n",
    "    #       A: n-by-n matrix\n",
    "    #       U: n-by-n Upper triangular matrix\n",
    "    #       L: n-by-n Lower triangular matrix\n",
    "    #       D: n-by-n Diagonal matrix\n",
    "    #       x: initial solution vector\n",
    "    #       b: n-by-1 coefficient vector\n",
    "    #       tol: tolerance for stopping criteria\n",
    "    # Outputs\n",
    "    #       x: n-by-1 solution vector\n",
    "    #      RES: residual\n",
    "    maxiter=300\n",
    "    N=np.shape(A)[0]\n",
    "    b=np.reshape(b,[N,1]) \n",
    "    RES =np.zeros([maxiter,1])\n",
    "    res=1\n",
    "    x=np.reshape(x,[N,1])\n",
    "    k=0\n",
    "    while res>tol and k<maxiter:\n",
    "        k=k+1\n",
    "        for j in np.arange(0,N):\n",
    "            x[j] = (b[j] - A[j,j+1::].dot(x[j+1::]) - A[j,0:j].dot(x[0:j]))/A[j,j]\n",
    "        res = np.linalg.norm(b.reshape(N,1)- (A.dot(x)).reshape(N,1))\n",
    "        RES[k-1,0]=res\n",
    "        print(k,'...',res)\n",
    "    return x,RES"
   ]
  },
  {
   "cell_type": "markdown",
   "metadata": {},
   "source": [
    "### Testing"
   ]
  },
  {
   "cell_type": "code",
   "execution_count": 122,
   "metadata": {},
   "outputs": [
    {
     "name": "stdout",
     "output_type": "stream",
     "text": [
      "1 ... 0.34511447376196785\n",
      "2 ... 0.0603723910409386\n",
      "3 ... 0.004829791283275144\n",
      "4 ... 0.00038638330266197227\n",
      "5 ... 3.091066421320687e-05\n",
      "6 ... 2.472853137210704e-06\n"
     ]
    },
    {
     "data": {
      "text/plain": [
       "[<matplotlib.lines.Line2D at 0x1171be978>]"
      ]
     },
     "execution_count": 122,
     "metadata": {},
     "output_type": "execute_result"
    },
    {
     "data": {
      "image/png": "[encoded data removed]",
      "text/plain": [
       "<Figure size 432x288 with 1 Axes>"
      ]
     },
     "metadata": {
      "needs_background": "light"
     },
     "output_type": "display_data"
    }
   ],
   "source": [
    "A = np.array([[5,-1,0],[-1,5,-1],[0,-1,5]]) # Strictly diagonal dominant matrix\n",
    "b = np.ones((N,1))\n",
    "x,RES = explicit_gseidel(A,b,np.zeros([N,1]),1e-5)\n",
    "plt.semilogy(RES)"
   ]
  },
  {
   "cell_type": "markdown",
   "metadata": {},
   "source": [
    "## Gauss-Seidel"
   ]
  },
  {
   "cell_type": "markdown",
   "metadata": {},
   "source": [
    "$$Ax = b$$\n",
    "\n",
    "where the matrix A can be decomposed into a lower triangular matrix $L$, a diagonal matrix $D$, and an upper triangular matrix $U$ as follows:\n",
    "\n",
    "$$A = L+D+U$$\n",
    "\n",
    "The iterative solution vector becomes:\n",
    "\n",
    "$$x^{k+1}= -(L+D)^{-1}Ux^{k}+ (L+D)^{-1}b$$"
   ]
  },
  {
   "cell_type": "code",
   "execution_count": 75,
   "metadata": {},
   "outputs": [],
   "source": [
    "def gseidel(A,b,x,tol):\n",
    "    # gseidel solves the system Ax = b\n",
    "    # Inputs\n",
    "    #       A: n-by-n matrix\n",
    "    #       U: n-by-n Upper triangular matrix\n",
    "    #       L: n-by-n Lower triangular matrix\n",
    "    #       D: n-by-n Diagonal matrix\n",
    "    #       x: initial solution vector\n",
    "    #       b: n-by-1 coefficient vector\n",
    "    #       tol: tolerance for stopping criteria\n",
    "    # Outputs\n",
    "    #       x: n-by-1 solution vector\n",
    "    #      RES: residual\n",
    "    maxiter=300\n",
    "    N=np.shape(A)[0]\n",
    "    b=np.reshape(b,[N,1]) \n",
    "    U=sp.triu(A,1)\n",
    "    U=sp.csr_matrix(U)\n",
    "    RES =np.zeros([maxiter,1]) \n",
    "    DL = sp.tril(A) #L+D\n",
    "    DL=sp.csr_matrix(DL)\n",
    "    c=np.reshape(s_prog(DL ,b),[N,1])\n",
    "    res=1 \n",
    "    x=np.reshape(x,[N,1])\n",
    "    k=0\n",
    "    while res>tol and k<maxiter:\n",
    "        k=k+1\n",
    "        ld = U.dot(x) # U@x\n",
    "        x= -1 * (s_prog(DL ,ld)) + c\n",
    "        res = np.linalg.norm(b.reshape(N,1)- (A.dot(x)).reshape(N,1))\n",
    "        RES[k-1,0]=res    \n",
    "        print(k,'...',res)\n",
    "    return x,RES"
   ]
  },
  {
   "cell_type": "markdown",
   "metadata": {},
   "source": [
    "### Testing"
   ]
  },
  {
   "cell_type": "code",
   "execution_count": 76,
   "metadata": {},
   "outputs": [
    {
     "name": "stdout",
     "output_type": "stream",
     "text": [
      "1 ... 1.1524430571616109\n",
      "2 ... 0.6987712429686843\n",
      "3 ... 0.34938562148434216\n",
      "4 ... 0.17469281074217108\n",
      "5 ... 0.08734640537108554\n",
      "6 ... 0.04367320268554277\n",
      "7 ... 0.021836601342771385\n",
      "8 ... 0.010918300671385692\n",
      "9 ... 0.005459150335692846\n",
      "10 ... 0.002729575167846423\n",
      "11 ... 0.0013647875839232116\n",
      "12 ... 0.0006823937919616058\n",
      "13 ... 0.0003411968959808029\n",
      "14 ... 0.00017059844799040144\n",
      "15 ... 8.529922399520072e-05\n",
      "16 ... 4.264961199760036e-05\n",
      "17 ... 2.132480599880018e-05\n",
      "18 ... 1.066240299940009e-05\n",
      "19 ... 5.331201499700045e-06\n"
     ]
    },
    {
     "data": {
      "text/plain": [
       "[<matplotlib.lines.Line2D at 0x1161d4d68>]"
      ]
     },
     "execution_count": 76,
     "metadata": {},
     "output_type": "execute_result"
    },
    {
     "data": {
      "image/png": "[encoded data removed]",
      "text/plain": [
       "<Figure size 432x288 with 1 Axes>"
      ]
     },
     "metadata": {
      "needs_background": "light"
     },
     "output_type": "display_data"
    }
   ],
   "source": [
    "A = np.array([[2,-1,0],[-1,2,-1],[0,-1,2]]) # Positive definite matrix\n",
    "b = np.ones((N,1))\n",
    "x,RES = gseidel(A,b,np.zeros([N,1]),1e-5)\n",
    "plt.semilogy(RES)"
   ]
  },
  {
   "cell_type": "markdown",
   "metadata": {},
   "source": [
    "## Explicit Gauss-Seidel"
   ]
  },
  {
   "cell_type": "markdown",
   "metadata": {},
   "source": [
    "$$ \n",
    "x_j^{(k+1)} = \\frac{1}{a_{jj}} \\Big( b_j- \\sum_{i=j+1}^n a_{ji}x_i^{(k)} - \\sum_{i=1}^{j-1} a_{ij}x_i^{(k+1)} \\Big) \n",
    "$$"
   ]
  },
  {
   "cell_type": "code",
   "execution_count": 77,
   "metadata": {},
   "outputs": [],
   "source": [
    "def explicit_gseidel(A,b,x,tol):\n",
    "    # explicit_gseidel solves the system Ax = b\n",
    "    # Inputs\n",
    "    #       A: n-by-n matrix\n",
    "    #       U: n-by-n Upper triangular matrix\n",
    "    #       L: n-by-n Lower triangular matrix\n",
    "    #       D: n-by-n Diagonal matrix\n",
    "    #       x: initial solution vector\n",
    "    #       b: n-by-1 coefficient vector\n",
    "    #       tol: tolerance for stopping criteria\n",
    "    # Outputs\n",
    "    #       x: n-by-1 solution vector\n",
    "    #      RES: residual\n",
    "    maxiter=300\n",
    "    N=np.shape(A)[0]\n",
    "    b=np.reshape(b,[N,1]) \n",
    "    RES =np.zeros([maxiter,1])\n",
    "    res=1\n",
    "    x=np.reshape(x,[N,1])\n",
    "    k=0\n",
    "    while res>tol and k<maxiter:\n",
    "        k=k+1\n",
    "        for j in np.arange(0,N):\n",
    "            x[j] = (b[j] - A[j,j+1::].dot(x[j+1::]) - A[0:j,j].T.dot(x[0:j]))/A[j,j]\n",
    "        res = np.linalg.norm(b.reshape(N,1)- (A.dot(x)).reshape(N,1))\n",
    "        RES[k-1,0]=res\n",
    "        print(k,'...',res)\n",
    "    return x,RES"
   ]
  },
  {
   "cell_type": "markdown",
   "metadata": {},
   "source": [
    "### Testing"
   ]
  },
  {
   "cell_type": "code",
   "execution_count": 78,
   "metadata": {},
   "outputs": [
    {
     "name": "stdout",
     "output_type": "stream",
     "text": [
      "1 ... 1.1524430571616109\n",
      "2 ... 0.6987712429686843\n",
      "3 ... 0.34938562148434216\n",
      "4 ... 0.17469281074217108\n",
      "5 ... 0.08734640537108554\n",
      "6 ... 0.04367320268554277\n",
      "7 ... 0.021836601342771385\n",
      "8 ... 0.010918300671385692\n",
      "9 ... 0.005459150335692846\n",
      "10 ... 0.002729575167846423\n",
      "11 ... 0.0013647875839232116\n",
      "12 ... 0.0006823937919616058\n",
      "13 ... 0.0003411968959808029\n",
      "14 ... 0.00017059844799040144\n",
      "15 ... 8.529922399520072e-05\n",
      "16 ... 4.264961199760036e-05\n",
      "17 ... 2.132480599880018e-05\n",
      "18 ... 1.066240299940009e-05\n",
      "19 ... 5.331201499700045e-06\n"
     ]
    },
    {
     "data": {
      "text/plain": [
       "[<matplotlib.lines.Line2D at 0x116231400>]"
      ]
     },
     "execution_count": 78,
     "metadata": {},
     "output_type": "execute_result"
    },
    {
     "data": {
      "image/png": "[encoded data removed]",
      "text/plain": [
       "<Figure size 432x288 with 1 Axes>"
      ]
     },
     "metadata": {
      "needs_background": "light"
     },
     "output_type": "display_data"
    }
   ],
   "source": [
    "A = np.array([[2,-1,0],[-1,2,-1],[0,-1,2]]) # Positive definite matrix\n",
    "b = np.ones((N,1))\n",
    "x,RES = explicit_gseidel(A,b,np.zeros([N,1]),1e-5)\n",
    "plt.semilogy(RES)"
   ]
  },
  {
   "cell_type": "markdown",
   "metadata": {},
   "source": [
    "## SOR"
   ]
  },
  {
   "cell_type": "markdown",
   "metadata": {},
   "source": [
    "$$Ax = b$$\n",
    "\n",
    "where the matrix A can be decomposed into a lower triangular matrix $L$, a diagonal matrix $D$, and an upper triangular matrix $U$ as follows:\n",
    "\n",
    "$$A = L+D+U$$\n",
    "\n",
    "The iterative solution vector becomes:\n",
    "\n",
    "$$x^{k+1}= -w\\left[(L+D)^{-1}Ux^{k}+ (L+D)^{-1}b\\right] + (1-w)x^{k}$$\n",
    "\n",
    "where $w \\in (0,1)$"
   ]
  },
  {
   "cell_type": "code",
   "execution_count": 79,
   "metadata": {},
   "outputs": [],
   "source": [
    "def sor(A,b,x,w,tol):\n",
    "    # gseidel solves the system Ax = b\n",
    "    # Inputs\n",
    "    #       A: n-by-n matrix\n",
    "    #       U: n-by-n Upper triangular matrix\n",
    "    #       L: n-by-n Lower triangular matrix\n",
    "    #       D: n-by-n Diagonal matrix\n",
    "    #       x: initial solution vector\n",
    "    #       b: n-by-1 coefficient vector\n",
    "    #       w: weight between 0 and 1\n",
    "    #       tol: tolerance for stopping criteria\n",
    "    # Outputs\n",
    "    #       x: n-by-1 solution vector\n",
    "    #      RES: residual\n",
    "    maxiter=300\n",
    "    N=np.shape(A)[0]\n",
    "    b=np.reshape(b,[N,1]) \n",
    "    U=sp.triu(A,1)\n",
    "    U=sp.csr_matrix(U)\n",
    "    RES =np.zeros([maxiter,1]) \n",
    "    DL = sp.tril(A) #L+D\n",
    "    DL=sp.csr_matrix(DL)\n",
    "    c=np.reshape(s_prog(DL ,b),[N,1])\n",
    "    res=1 \n",
    "    x=np.reshape(x,[N,1])\n",
    "    k=0\n",
    "    while res>tol and k<maxiter:\n",
    "        k=k+1\n",
    "        ld = U.dot(x) # U@x\n",
    "        x= -w * (s_prog(DL ,ld)) + (1-w)*x + w*c\n",
    "        res = np.linalg.norm(b.reshape(N,1)- (A.dot(x)).reshape(N,1))\n",
    "        RES[k-1,0]=res    \n",
    "        print(k,'...',res)\n",
    "    return x,RES"
   ]
  },
  {
   "cell_type": "markdown",
   "metadata": {},
   "source": [
    "### Test"
   ]
  },
  {
   "cell_type": "code",
   "execution_count": 80,
   "metadata": {},
   "outputs": [
    {
     "name": "stdout",
     "output_type": "stream",
     "text": [
      "1 ... 1.3764197215965774\n",
      "2 ... 1.122066487836171\n",
      "3 ... 0.9085789712899548\n",
      "4 ... 0.7260142893580338\n",
      "5 ... 0.5724958145621614\n",
      "6 ... 0.44627429178114514\n",
      "7 ... 0.3446252328817975\n",
      "8 ... 0.26416224860162124\n",
      "9 ... 0.20133248223680017\n",
      "10 ... 0.15278485811932765\n",
      "11 ... 0.11557032725527908\n",
      "12 ... 0.08721249636812675\n",
      "13 ... 0.0656984411551898\n",
      "14 ... 0.049429095593066824\n",
      "15 ... 0.03715476907121378\n",
      "16 ... 0.027910186987968603\n",
      "17 ... 0.020956004966264218\n",
      "18 ... 0.01572933743477737\n",
      "19 ... 0.011803494229253145\n",
      "20 ... 0.008856027859278278\n",
      "21 ... 0.006643805085243375\n",
      "22 ... 0.004983786128114008\n",
      "23 ... 0.003738325832286331\n",
      "24 ... 0.0028039975204622717\n",
      "25 ... 0.00210312972327665\n",
      "26 ... 0.0015774155872390933\n",
      "27 ... 0.0011830970888920555\n",
      "28 ... 0.0008873411412208661\n",
      "29 ... 0.0006655153307725173\n",
      "30 ... 0.0004991413917700809\n",
      "31 ... 0.00037435856879310293\n",
      "32 ... 0.0002807702281342378\n",
      "33 ... 0.00021057834139730867\n",
      "34 ... 0.00015793410095912605\n",
      "35 ... 0.00011845075305628601\n",
      "36 ... 8.883815590117042e-05\n",
      "37 ... 6.662866370058833e-05\n",
      "38 ... 4.9971521772935845e-05\n",
      "39 ... 3.747865363357186e-05\n",
      "40 ... 2.8108996529419757e-05\n",
      "41 ... 2.1081750625399897e-05\n",
      "42 ... 1.5811314621399136e-05\n",
      "43 ... 1.1858486811277511e-05\n",
      "44 ... 8.893865540816195e-06\n"
     ]
    },
    {
     "data": {
      "text/plain": [
       "[<matplotlib.lines.Line2D at 0x11641abe0>]"
      ]
     },
     "execution_count": 80,
     "metadata": {},
     "output_type": "execute_result"
    },
    {
     "data": {
      "image/png": "[encoded data removed]",
      "text/plain": [
       "<Figure size 432x288 with 1 Axes>"
      ]
     },
     "metadata": {
      "needs_background": "light"
     },
     "output_type": "display_data"
    }
   ],
   "source": [
    "A = np.array([[2,-1,0],[-1,2,-1],[0,-1,2]]) # Positive definite matrix\n",
    "b = np.ones((N,1))\n",
    "x,RES = sor(A,b,np.zeros([N,1]),0.5,1e-5)\n",
    "plt.semilogy(RES)"
   ]
  },
  {
   "cell_type": "markdown",
   "metadata": {},
   "source": [
    "## Explicit SOR"
   ]
  },
  {
   "cell_type": "markdown",
   "metadata": {},
   "source": [
    "$$ \n",
    "x_j^{(k+1)} = \\frac{w}{a_{jj}} \\Big( b_j- \\sum_{i=j+1}^n a_{ji}x_i^{(k)} - \\sum_{i=1}^{j-1} a_{ij}x_i^{(k+1)} \\Big) + (1-w)x_j^{(k)}\n",
    "$$"
   ]
  },
  {
   "cell_type": "code",
   "execution_count": 81,
   "metadata": {},
   "outputs": [],
   "source": [
    "def explicit_sor(A,b,x,w,tol):\n",
    "    # explicit_gseidel solves the system Ax = b\n",
    "    # Inputs\n",
    "    #       A: n-by-n matrix\n",
    "    #       U: n-by-n Upper triangular matrix\n",
    "    #       L: n-by-n Lower triangular matrix\n",
    "    #       D: n-by-n Diagonal matrix\n",
    "    #       x: initial solution vector\n",
    "    #       b: n-by-1 coefficient vector\n",
    "    #       tol: tolerance for stopping criteria\n",
    "    # Outputs\n",
    "    #       x: n-by-1 solution vector\n",
    "    #      RES: residual\n",
    "    maxiter=300\n",
    "    N=np.shape(A)[0]\n",
    "    b=np.reshape(b,[N,1]) \n",
    "    RES =np.zeros([maxiter,1])\n",
    "    res=1\n",
    "    x=np.reshape(x,[N,1])\n",
    "    k=0\n",
    "    while res>tol and k<maxiter:\n",
    "        k=k+1\n",
    "        for j in np.arange(0,N):\n",
    "            x[j] = w*(b[j] - A[j,j+1::].dot(x[j+1::]) - A[0:j,j].T.dot(x[0:j]))/A[j,j] + (1-w)*x[j]\n",
    "        res = np.linalg.norm(b.reshape(N,1)- (A.dot(x)).reshape(N,1))\n",
    "        RES[k-1,0]=res\n",
    "        print(k,'...',res)\n",
    "    return x,RES"
   ]
  },
  {
   "cell_type": "markdown",
   "metadata": {},
   "source": [
    "### Test"
   ]
  },
  {
   "cell_type": "code",
   "execution_count": 82,
   "metadata": {},
   "outputs": [
    {
     "name": "stdout",
     "output_type": "stream",
     "text": [
      "1 ... 1.4139545884238998\n",
      "2 ... 1.170554268772951\n",
      "3 ... 0.9682844027556695\n",
      "4 ... 0.7991071863000322\n",
      "5 ... 0.6581618504629729\n",
      "6 ... 0.5412816488898753\n",
      "7 ... 0.44471634304580665\n",
      "8 ... 0.36514331531902355\n",
      "9 ... 0.29968613701835045\n",
      "10 ... 0.24590058572885234\n",
      "11 ... 0.20173638253028311\n",
      "12 ... 0.16548816332955152\n",
      "13 ... 0.13574502791346268\n",
      "14 ... 0.11134358548770015\n",
      "15 ... 0.0913265116572411\n",
      "16 ... 0.07490704672404304\n",
      "17 ... 0.061439108391135644\n",
      "18 ... 0.050392389629486334\n",
      "19 ... 0.04133173842062671\n",
      "20 ... 0.03390014690845351\n",
      "21 ... 0.027804749963163858\n",
      "22 ... 0.022805316629600964\n",
      "23 ... 0.0187047985415877\n",
      "24 ... 0.01534157161392455\n",
      "25 ... 0.012583069636287626\n",
      "26 ... 0.010320561040352009\n",
      "27 ... 0.008464864062829208\n",
      "28 ... 0.006942831961347211\n",
      "29 ... 0.0056944700161846015\n",
      "30 ... 0.004670570815558967\n",
      "31 ... 0.0038307746823014028\n",
      "32 ... 0.0031419788231215784\n",
      "33 ... 0.002577032510147498\n",
      "34 ... 0.0021136668704907894\n",
      "35 ... 0.0017336171029428955\n",
      "36 ... 0.0014219025237770337\n",
      "37 ... 0.0011662360638077828\n",
      "38 ... 0.0009565399409868617\n",
      "39 ... 0.0007845484177317169\n",
      "40 ... 0.0006434819847383073\n",
      "41 ... 0.0005277801284161577\n",
      "42 ... 0.0004328821482926901\n",
      "43 ... 0.0003550473847298649\n",
      "44 ... 0.00029120777075033533\n",
      "45 ... 0.00023884689591268114\n",
      "46 ... 0.00019590081521488303\n",
      "47 ... 0.00016067669313891544\n",
      "48 ... 0.000131786075977761\n",
      "49 ... 0.00010809016219039308\n",
      "50 ... 8.865491346967896e-05\n",
      "51 ... 7.271423710591496e-05\n",
      "52 ... 5.9639788376605693e-05\n",
      "53 ... 4.891620264732692e-05\n",
      "54 ... 4.012078088397736e-05\n",
      "55 ... 3.2906827832654734e-05\n",
      "56 ... 2.6989986090889375e-05\n",
      "57 ... 2.213702739407493e-05\n",
      "58 ... 1.815665929537243e-05\n",
      "59 ... 1.4891984858822565e-05\n",
      "60 ... 1.2214318142570677e-05\n",
      "61 ... 1.0018111695501043e-05\n",
      "62 ... 8.21679612205715e-06\n"
     ]
    },
    {
     "data": {
      "text/plain": [
       "[<matplotlib.lines.Line2D at 0x114da0860>]"
      ]
     },
     "execution_count": 82,
     "metadata": {},
     "output_type": "execute_result"
    },
    {
     "data": {
      "image/png": "[encoded data removed]",
      "text/plain": [
       "<Figure size 432x288 with 1 Axes>"
      ]
     },
     "metadata": {
      "needs_background": "light"
     },
     "output_type": "display_data"
    }
   ],
   "source": [
    "A = np.array([[2,-1,0],[-1,2,-1],[0,-1,2]]) # Positive definite matrix\n",
    "b = np.ones((N,1))\n",
    "x,RES = explicit_sor(A,b,np.zeros([N,1]),0.5,1e-5)\n",
    "plt.semilogy(RES)"
   ]
  },
  {
   "cell_type": "code",
   "execution_count": null,
   "metadata": {},
   "outputs": [],
   "source": []
  }
 ],
 "metadata": {
  "kernelspec": {
   "display_name": "Python 3",
   "language": "python",
   "name": "python3"
  },
  "language_info": {
   "codemirror_mode": {
    "name": "ipython",
    "version": 3
   },
   "file_extension": ".py",
   "mimetype": "text/x-python",
   "name": "python",
   "nbconvert_exporter": "python",
   "pygments_lexer": "ipython3",
   "version": "3.7.3"
  }
 },
 "nbformat": 4,
 "nbformat_minor": 2
}
